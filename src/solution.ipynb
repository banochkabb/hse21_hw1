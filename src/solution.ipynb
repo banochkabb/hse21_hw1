{
 "cells": [
  {
   "cell_type": "code",
   "execution_count": 11,
   "id": "f9502679",
   "metadata": {},
   "outputs": [],
   "source": [
    "import Bio\n",
    "from Bio.Seq import Seq\n",
    "from Bio import SeqIO\n",
    "import re"
   ]
  },
  {
   "cell_type": "code",
   "execution_count": 29,
   "id": "8e80f6f5",
   "metadata": {},
   "outputs": [
    {
     "name": "stdout",
     "output_type": "stream",
     "text": [
      "кол-во контигов:\n",
      "615\n",
      "длина контигов:\n",
      "3925767\n",
      "самый длинный контиг: 3875324\n",
      "N50 = 143016\n"
     ]
    }
   ],
   "source": [
    "con = list(SeqIO.parse('contig.fa', 'fasta'))\n",
    "print('кол-во контигов:')\n",
    "print(len(con))\n",
    "summ = 0\n",
    "for elem in con:\n",
    "    summ += len(elem)\n",
    "print('длина контигов:')\n",
    "print(summ)\n",
    "\n",
    "data = []\n",
    "for i in con:\n",
    "    data.append(len(i.seq))\n",
    "print('самый длинный контиг:', max(lens))\n",
    "data.sort()\n",
    "data.reverse()\n",
    "summ = 0\n",
    "for ln in data:\n",
    "    summ += ln\n",
    "    if summ >= len(con) / 2:\n",
    "        print('N50 =', ln)\n",
    "        break"
   ]
  },
  {
   "cell_type": "code",
   "execution_count": 34,
   "id": "5fc6e00e",
   "metadata": {},
   "outputs": [
    {
     "name": "stdout",
     "output_type": "stream",
     "text": [
      "кол-во скаффолдов:\n",
      "70\n",
      "длина скаффолдов:\n",
      "3874124\n",
      "самый длинный скаффолд: 3834610\n"
     ]
    }
   ],
   "source": [
    "sc = list(SeqIO.parse('scaffold.fa', 'fasta'))\n",
    "print('кол-во скаффолдов:')\n",
    "print(len(sc))\n",
    "summa = 0\n",
    "for elem in sc:\n",
    "    summa += len(elem)\n",
    "print('длина скаффолдов:')\n",
    "print(summa)\n",
    "\n",
    "lens = []\n",
    "for i in sc:\n",
    "    if len(i.seq) > longest:\n",
    "        ans = len(i.seq)\n",
    "        temp = i\n",
    "print('самый длинный скаффолд:', ans)\n"
   ]
  },
  {
   "cell_type": "code",
   "execution_count": 19,
   "id": "8a7cf6e9",
   "metadata": {},
   "outputs": [
    {
     "name": "stdout",
     "output_type": "stream",
     "text": [
      "кол-во гэпов: \n",
      "60\n",
      "длина гэпов: \n",
      "6719\n"
     ]
    }
   ],
   "source": [
    "print('кол-во гэпов: ')\n",
    "print(re.sub(r'N{2,}', 'N', str(temp.seq)).count(\"N\"))\n",
    "print('длина гэпов: ')\n",
    "print(str(temp.seq).count(\"N\"))"
   ]
  },
  {
   "cell_type": "code",
   "execution_count": 26,
   "id": "bce84f59",
   "metadata": {},
   "outputs": [
    {
     "name": "stdout",
     "output_type": "stream",
     "text": [
      "кол-во гэпов: \n",
      "9\n",
      "длина гэпов: \n",
      "2059\n"
     ]
    }
   ],
   "source": [
    "gap = list(SeqIO.parse('out_gapClosed.fa', 'fasta'))\n",
    "\n",
    "lens = []\n",
    "longest = 0\n",
    "for rec in gap:\n",
    "    lens.append(len(rec.seq))\n",
    "    if len(rec.seq) > longest:\n",
    "        longest = len(rec.seq)\n",
    "        sc = rec\n",
    "\n",
    "print('кол-во гэпов: ')\n",
    "print(re.sub(r'N{2,}', 'N', str(sc.seq)).count(\"N\"))\n",
    "print('длина гэпов: ')\n",
    "print(str(sc.seq).count(\"N\"))"
   ]
  },
  {
   "cell_type": "code",
   "execution_count": null,
   "id": "8bd0b725",
   "metadata": {},
   "outputs": [],
   "source": []
  }
 ],
 "metadata": {
  "kernelspec": {
   "display_name": "Python 3 (ipykernel)",
   "language": "python",
   "name": "python3"
  },
  "language_info": {
   "codemirror_mode": {
    "name": "ipython",
    "version": 3
   },
   "file_extension": ".py",
   "mimetype": "text/x-python",
   "name": "python",
   "nbconvert_exporter": "python",
   "pygments_lexer": "ipython3",
   "version": "3.9.7"
  }
 },
 "nbformat": 4,
 "nbformat_minor": 5
}
